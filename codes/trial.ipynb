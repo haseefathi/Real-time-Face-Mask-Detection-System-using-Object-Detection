{
 "cells": [
  {
   "cell_type": "code",
   "execution_count": 1,
   "metadata": {},
   "outputs": [],
   "source": [
    "from object_detection.utils import dataset_util, label_map_util"
   ]
  },
  {
   "cell_type": "code",
   "execution_count": 1,
   "metadata": {},
   "outputs": [],
   "source": [
    "WORKSPACE_PATH = 'Tensorflow/workspace'\n",
    "IMAGE_PATH = WORKSPACE_PATH+'/images/train/'\n",
    "img_file_name = IMAGE_PATH + '1818.jpg'"
   ]
  },
  {
   "cell_type": "code",
   "execution_count": 2,
   "metadata": {},
   "outputs": [],
   "source": [
    "annotation = [141, 128, 368, 422]"
   ]
  },
  {
   "cell_type": "code",
   "execution_count": 3,
   "metadata": {},
   "outputs": [],
   "source": [
    "import cv2\n",
    "import matplotlib as plt"
   ]
  },
  {
   "cell_type": "code",
   "execution_count": 11,
   "metadata": {},
   "outputs": [],
   "source": [
    "img = cv2.imread(img_file_name)\n",
    "a,b,c,d = annotation\n",
    "\n",
    "cv2.rectangle(img,(a,b), (c,d) ,(255,0,0),2)\n",
    "\n",
    "cv2.imshow('img', img)\n",
    "cv2.waitKey(10000)\n",
    "cv2.destroyAllWindows()\n"
   ]
  },
  {
   "cell_type": "code",
   "execution_count": 8,
   "metadata": {},
   "outputs": [
    {
     "name": "stdout",
     "output_type": "stream",
     "text": [
      "(500, 667)\n",
      "<class 'tuple'>\n",
      "width:  500\n",
      "height: 667\n"
     ]
    }
   ],
   "source": [
    "from PIL import Image\n",
    "\n",
    "im = Image.open(img_file_name)\n",
    "\n",
    "print(im.size)\n",
    "print(type(im.size))\n",
    "# (400, 225)\n",
    "# <class 'tuple'>\n",
    "\n",
    "w, h = im.size\n",
    "print('width: ', w)\n",
    "print('height:', h)"
   ]
  },
  {
   "cell_type": "code",
   "execution_count": 9,
   "metadata": {},
   "outputs": [
    {
     "name": "stdout",
     "output_type": "stream",
     "text": [
      "Tensorflow/workspace/images/train/1818.jpg.json\n"
     ]
    }
   ],
   "source": [
    "json_file_name = img_file_name + \".json\"\n",
    "print(json_file_name)"
   ]
  },
  {
   "cell_type": "code",
   "execution_count": 10,
   "metadata": {},
   "outputs": [
    {
     "name": "stdout",
     "output_type": "stream",
     "text": [
      "Tensorflow/workspace/images/train/1818.jpg\n"
     ]
    }
   ],
   "source": [
    "parts = json_file_name.split('.')\n",
    "img_file_name = parts[0]+\".\"+parts[1]\n",
    "\n",
    "print(img_file_name)"
   ]
  }
 ],
 "metadata": {
  "interpreter": {
   "hash": "63fd5069d213b44bf678585dea6b12cceca9941eaf7f819626cde1f2670de90d"
  },
  "kernelspec": {
   "display_name": "Python 3.9.6 64-bit",
   "language": "python",
   "name": "python3"
  },
  "language_info": {
   "codemirror_mode": {
    "name": "ipython",
    "version": 3
   },
   "file_extension": ".py",
   "mimetype": "text/x-python",
   "name": "python",
   "nbconvert_exporter": "python",
   "pygments_lexer": "ipython3",
   "version": "3.9.6"
  },
  "orig_nbformat": 4
 },
 "nbformat": 4,
 "nbformat_minor": 2
}
